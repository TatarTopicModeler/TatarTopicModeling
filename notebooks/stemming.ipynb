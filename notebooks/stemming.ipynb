{
 "cells": [
  {
   "cell_type": "code",
   "execution_count": 14,
   "metadata": {},
   "outputs": [],
   "source": [
    "# imports\n",
    "import wikipedia\n",
    "import pandas as pd\n",
    "import re"
   ]
  },
  {
   "cell_type": "code",
   "execution_count": 4,
   "metadata": {},
   "outputs": [
    {
     "data": {
      "text/plain": [
       "'Бавырса́к (монг. Борц) — татар милли ризыгы. Камыр кисәкләрен кайнаган майда кыздырып әзерләнә.\\n\\n\\n== Әзерләү ысулы ==\\nСавытка йомырка сыталар, сөт салалар, май, шикәр комы, тоз, азрак чүпрә өстиләр (күп вакытта чүпрә салмыйлар да). Шул катнашманы шикәре, тозы һәм чүпрәсе эреп беткәнче яхшылап болгаталар. Аннары он кушып, токмач камырыннан йомшаграк итеп камыр басалар. Камырны 100—150 г лы кисәкләргә бүләләр дә бармак калынлыгында баусыман тәгәрәтәләр һәм урман чикләвеге кадәр итеп турыйлар. Кайнап торган майга салалар, болгата-болгата, кызарганчы пешерәләр.\\nӘзер бавырсакны тишекле зур чүмечтә сөзәләр, мае агып беткәч, өстенә шикәр оны сибергә була. Бавырсакны чәй янына чыгаралар. Аны катык һәм сөт белән дә ашарга була. Ул юлга алу өчен дә әйбәт.\\n1 кг югары сортлы онга: 10 йомырка, 130—140 г сөт, 30—35 г шикәр комы, 30 г сары май, 5 г чүпрә, тол, пешерү өчен 180—200 г май.\\n\\n\\n== Бавырлы бавырсак ==\\nӘче камыр куялар. Баскан вакытта пешереп ит тарткычтан чыгарган бавыр өстиләр. Камырны 1 —1,5 сәгать кабарталар. Камыр өлгергәч, кисәкләргә бүлеп, баусыман итеп тәгәрәтәләр һәм кузы чикләвегеннән кечерәк итеп турыйлар.\\nӘзер бавырсакны кайнап торган майда пешерәләр һәм табынга катык белән чыгаралар.\\n600—6S0 г югары сортлы онга: 6—8 йомырка, 150 г сөт, 30 г шикәр, 30 г сары май, 5 г чүпрә, тоз, 400 г пешкән бавыр, пешерү өчен 200—250 г май.\\n\\n\\n== Чыганаклар ==\\nТатар халык ашлары./Руcчадан Р.Х. Камалова,, В.Р. Шәрипова тәрҗемәсе. - Казан: Татарстан китап нәшрияты, 1987. - 318 б. 1 рәс. белән, 8 б. вкл.\\n\\n\\n== Сылтамалар ==\\nБавырсак пешерү серләре\\n\\n\\n== Моны да карагыз ==\\nЧәкчәк'"
      ]
     },
     "execution_count": 4,
     "metadata": {},
     "output_type": "execute_result"
    }
   ],
   "source": [
    "wikipedia.set_lang('tt')\n",
    "\n",
    "page = wikipedia.page('бавырсак')\n",
    "page.content"
   ]
  },
  {
   "cell_type": "code",
   "execution_count": 20,
   "metadata": {},
   "outputs": [
    {
     "data": {
      "text/plain": [
       "'бавырсакка татарларга миллинең ризыгы камыр кисәкләрен кайнаган майда кыздырып әзерләнә әзерләү ысулы савытка йомырка сыталар сөтсалалар май комы өстиләр'"
      ]
     },
     "execution_count": 20,
     "metadata": {},
     "output_type": "execute_result"
    }
   ],
   "source": [
    "text = 'бавырсакка татарларга миллинең ризыгы камыр кисәкләрен кайнаган майда '+\\\n",
    "'кыздырып әзерләнә әзерләү ысулы савытка йомырка сыталар сөтсалалар май комы өстиләр'\n",
    "\n",
    "text"
   ]
  },
  {
   "cell_type": "code",
   "execution_count": 134,
   "metadata": {},
   "outputs": [
    {
     "data": {
      "text/plain": [
       "'баручылар  китап  әби  кисәк'"
      ]
     },
     "execution_count": 134,
     "metadata": {},
     "output_type": "execute_result"
    }
   ],
   "source": [
    "TT_ALPHA_REGEX = r'аәбвгдеёжҗзийклмнңоөпрстуүфхһцчшщъыьэюя'\n",
    "\n",
    "\n",
    "sound_pairs = {'б':'п','в':'ф','г':'к','д':'т','ж':'ш','җ':'щ','з':'с'}\n",
    "deaf_pairs = {v:k for k,v in sound_pairs.items()}\n",
    "\n",
    "def sound_deaf(intext, m1,m2):\n",
    "    text = intext\n",
    "    for k,v in sound_pairs.items():\n",
    "        text = re.sub(k+m1+r'\\b', v+m2, text)\n",
    "    for k,v in deaf_pairs.items():\n",
    "        text = re.sub(k+m1+r'\\b', v+m2, text)\n",
    "    \n",
    "    return text\n",
    "\n",
    "\n",
    "def reduce_affix(text, affixes,m1='',m2='_'):\n",
    "#     regex = '|'.join(affixes)\n",
    "#     regex = f'({regex})'\n",
    "#     regex = regex+r'\\b'\n",
    "    reduced =text \n",
    "    for a in affixes:\n",
    "        reduced = re.sub(a+m1+r'\\b', m2, reduced)\n",
    "    \n",
    "    return reduced\n",
    "\n",
    "figil_shart_barlik_affix = 'сам саң са сак сагыз салар'.split()\n",
    "figil_shart_yuklik_affix = ['ма'+a for a in figil_barlik_affix]\n",
    "figil_past_definite_affix = 'дым дем дың дең ды де дык дек дылар деләр дыгыз дегез'.split()\n",
    "figil_past_indefinite_affix = 'ганмын гәнмен ганбыз гәнбез гансың гәнсең гансыз гәнсез ган гән ганнар гәннәр'.split()\n",
    "figil_present_affix = 'на нә м мын мен быз без сың сең сыз сез лар ләр нәр нәр'.split()\n",
    "figil_future_affix = 'ыр ер ар әр'\n",
    "\n",
    "def process_figil(intext):\n",
    "    text = intext\n",
    "    text = reduce_affix(text, figil_past_definite_affix)\n",
    "    text = reduce_affix(text, figil_past_indefinite_affix)\n",
    "    text = reduce_affix(text, figil_shart_yuklik_affix)\n",
    "    text = reduce_affix(text, figil_shart_barlik_affix)\n",
    "    text = reduce_affix(text, figil_present_affix)\n",
    "    return text\n",
    "    \n",
    "ravesh_affix = 'ып еп'.split()\n",
    "\n",
    "def process_ravesh(intext):\n",
    "    text = intext\n",
    "    text = reduce_affix(text, ravesh_affix, '', '_')\n",
    "    return text\n",
    "\n",
    "# ISEM\n",
    "kilesh = 'ның нең га гә ка кә ны не дан дән тан тән да дә та тә'.split()\n",
    "tartim = 'ен ым ем ың ең ы е м ң сы се ыбыз ебез ыгыз егез быз без гыз гез'.split()\n",
    "san = 'лар ләр нар нәр'.split()\n",
    "\n",
    "\n",
    "def process_isem(intext):\n",
    "    text = intext\n",
    "    text = reduce_affix(text, kilesh, m1='', m2='K')\n",
    "    text = reduce_affix(text, tartim, m1='K', m2 ='T')\n",
    "    text = reduce_affix(text, tartim, m1='', m2 ='T')\n",
    "    text = sound_deaf(text, m1='T',m2='_')\n",
    "    \n",
    "    text = reduce_affix(text, san, m1='T',m2='_')\n",
    "    text = re.sub('[KT]','_',text)\n",
    "    return text\n",
    "\n",
    "\n",
    "# SIYFAT\n",
    "comparative_affix = 'рак рәк'.split()\n",
    "def process_siyfat(intext):\n",
    "    text = intext\n",
    "    text = reduce_affix(text, comparative_affix)\n",
    "    return text\n",
    "\n",
    "\n",
    "text = 'бавырсакка татарларга миллинең ризыгы камыр кисәкләрен кайнаган майда '+\\\n",
    "'кыздырып әзерләнә әзерләү ысулы савытка йомырка сытсалар сыталар сөт салалар май комы өстиләр '+\\\n",
    "'бардым эшләдем бардык эшләдек бардың эшләдең бардыгыз эшләдегез барды эшләде бардылар эшләделәр '+\\\n",
    "' '\n",
    "text = 'баручыларның китабым әбием кисәгем'\n",
    "###########################\n",
    "text = process_ravesh(text)\n",
    "text = process_isem(text)\n",
    "text = process_siyfat(text)\n",
    "text = process_figil(text)\n",
    "\n",
    "text = re.sub(r'\\s+', ' ', text).strip()\n",
    "text = re.sub(r'_+', ' ', text).strip()\n",
    "text"
   ]
  },
  {
   "cell_type": "code",
   "execution_count": null,
   "metadata": {},
   "outputs": [],
   "source": []
  }
 ],
 "metadata": {
  "kernelspec": {
   "display_name": "Python 3",
   "language": "python",
   "name": "python3"
  },
  "language_info": {
   "codemirror_mode": {
    "name": "ipython",
    "version": 3
   },
   "file_extension": ".py",
   "mimetype": "text/x-python",
   "name": "python",
   "nbconvert_exporter": "python",
   "pygments_lexer": "ipython3",
   "version": "3.7.3"
  }
 },
 "nbformat": 4,
 "nbformat_minor": 4
}
