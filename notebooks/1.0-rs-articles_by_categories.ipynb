{
 "cells": [
  {
   "cell_type": "code",
   "execution_count": 17,
   "metadata": {
    "collapsed": true
   },
   "outputs": [
    {
     "data": {
      "text/plain": "[<a href=\"/wiki/%D0%92%D0%B8%D0%BA%D0%B8%D0%BF%D0%B5%D0%B4%D0%B8%D1%8F:%D0%9F%D1%80%D0%BE%D0%B5%D0%BA%D1%82:%D0%A2%D0%B0%D1%82%D0%B0%D1%80_%D1%80%D0%B8%D0%B7%D1%8B%D0%BA%D0%BB%D0%B0%D1%80%D1%8B\" title=\"Википедия:Проект:Татар ризыклары\">Википедия:Проект:Татар ризыклары</a>,\n <a href=\"/wiki/%D0%A2%D0%B0%D1%82%D0%B0%D1%80_%D0%BC%D0%B8%D0%BB%D0%BB%D0%B8_%D1%80%D0%B8%D0%B7%D1%8B%D0%BA%D0%BB%D0%B0%D1%80%D1%8B\" title=\"Татар милли ризыклары\">Татар милли ризыклары</a>,\n <a href=\"/wiki/Atlan_may\" title=\"Atlan may\">Atlan may</a>,\n <a href=\"/wiki/B%C3%A4r%C3%A4%C3%B1ge_t%C3%A4k%C3%A4se\" title=\"Bäräñge täkäse\">Bäräñge täkäse</a>,\n <a href=\"/wiki/Erem%C3%A7ek\" title=\"Eremçek\">Eremçek</a>,\n <a href=\"/wiki/Qat%C4%B1q\" title=\"Qatıq\">Qatıq</a>,\n <a href=\"/wiki/Q%C4%B1st%C4%B1b%C3%AD\" title=\"Qıstıbí\">Qıstıbí</a>,\n <a href=\"/wiki/S%C3%B6t\" title=\"Söt\">Söt</a>,\n <a href=\"/wiki/Tatar_a%C5%9Flar%C4%B1\" title=\"Tatar aşları\">Tatar aşları</a>,\n <a href=\"/wiki/%C3%84yr%C3%A4n\" title=\"Äyrän\">Äyrän</a>,\n <a href=\"/wiki/%D0%90%D0%B7%D1%83\" title=\"Азу\">Азу</a>,\n <a href=\"/wiki/%D0%91%D0%B0%D0%B2%D1%8B%D1%80%D1%81%D0%B0%D0%BA\" title=\"Бавырсак\">Бавырсак</a>,\n <a href=\"/wiki/%D0%91%D1%83%D0%B7%D0%B0\" title=\"Буза\">Буза</a>,\n <a href=\"/wiki/%D0%91%D3%99%D0%BB%D0%B5%D1%88\" title=\"Бәлеш\">Бәлеш</a>,\n <a href=\"/wiki/%D0%91%D3%A9%D0%BA%D0%BA%D3%99%D0%BD\" title=\"Бөккән\">Бөккән</a>,\n <a href=\"/wiki/%D0%93%D3%A9%D0%B1%D3%99%D0%B4%D0%B8%D1%8F\" title=\"Гөбәдия\">Гөбәдия</a>,\n <a href=\"/wiki/%D0%94%D1%83%D1%87%D0%BC%D0%B0%D0%BA\" title=\"Дучмак\">Дучмак</a>,\n <a href=\"/wiki/%D0%94%D2%AF%D1%80%D1%82%D0%BC%D0%B5%D1%88\" title=\"Дүртмеш\">Дүртмеш</a>,\n <a href=\"/wiki/%D0%9A%D0%B0%D0%B7%D1%8B%D0%BB%D1%8B%D0%BA\" title=\"Казылык\">Казылык</a>,\n <a href=\"/wiki/%D0%9A%D0%B0%D0%BB%D2%97%D0%B0\" title=\"Калҗа\">Калҗа</a>,\n <a href=\"/wiki/%D0%9A%D0%B0%D1%80%D1%82%D0%B0_(%D1%80%D0%B8%D0%B7%D1%8B%D0%BA)\" title=\"Карта (ризык)\">Карта (ризык)</a>,\n <a href=\"/wiki/%D0%9A%D0%B0%D1%82%D0%BB%D0%B0%D0%BC%D0%B0\" title=\"Катлама\">Катлама</a>,\n <a href=\"/wiki/%D0%9A%D0%B0%D1%82%D1%8B%D0%BA\" title=\"Катык\">Катык</a>,\n <a href=\"/wiki/%D0%9A%D0%BE%D0%B9%D0%BA%D0%B0\" title=\"Койка\">Койка</a>,\n <a href=\"/wiki/%D0%9A%D0%BE%D1%80%D1%82_(%D1%80%D0%B8%D0%B7%D1%8B%D0%BA)\" title=\"Корт (ризык)\">Корт (ризык)</a>,\n <a href=\"/wiki/%D0%9A%D0%BE%D1%88_%D1%82%D0%B5%D0%BB%D0%B5\" title=\"Кош теле\">Кош теле</a>,\n <a href=\"/wiki/%D0%9A%D1%8B%D0%B7%D0%B4%D1%8B%D1%80%D0%BC%D0%B0\" title=\"Кыздырма\">Кыздырма</a>,\n <a href=\"/wiki/%D0%9A%D1%8B%D1%81%D1%82%D1%8B%D0%B1%D1%8B%D0%B9\" title=\"Кыстыбый\">Кыстыбый</a>,\n <a href=\"/wiki/%D0%9C%D0%B0%D0%BD%D1%82%D1%8B\" title=\"Манты\">Манты</a>,\n <a href=\"/wiki/%D0%9F%D0%B8%D0%BB%D0%BC%D3%99%D0%BD\" title=\"Пилмән\">Пилмән</a>,\n <a href=\"/wiki/%D0%9F%D1%8B%D0%BB%D0%B0%D1%83\" title=\"Пылау\">Пылау</a>,\n <a href=\"/wiki/%D0%9F%D3%99%D1%80%D3%99%D0%BC%D3%99%D1%87\" title=\"Пәрәмәч\">Пәрәмәч</a>,\n <a href=\"/wiki/%D0%9F%D3%99%D1%85%D0%BB%D3%99%D0%B2%D3%99\" title=\"Пәхләвә\">Пәхләвә</a>,\n <a href=\"/wiki/%D0%A2%D0%B0%D0%BB%D0%BA%D1%8B%D1%88_%D0%BA%D3%99%D0%BB%D3%99%D0%B2%D3%99\" title=\"Талкыш кәләвә\">Талкыш кәләвә</a>,\n <a href=\"/wiki/%D0%A2%D0%B0%D1%82%D0%B0%D1%80_%D0%B0%D1%88%D0%BB%D0%B0%D1%80%D1%8B_%D0%B9%D0%BE%D1%80%D1%82%D1%8B\" title=\"Татар ашлары йорты\">Татар ашлары йорты</a>,\n <a href=\"/wiki/%D0%A2%D0%B0%D1%82%D0%BB%D1%8B\" title=\"Татлы\">Татлы</a>,\n <a href=\"/wiki/%D0%A2%D1%83%D0%B0%D1%80%D1%83%D0%B3_%D0%BF%D0%B8%D1%80%D0%BC%D3%99%D0%BD%D0%BA%D3%99%D1%81%D0%B5\" title=\"Туаруг пирмәнкәсе\">Туаруг пирмәнкәсе</a>,\n <a href=\"/wiki/%D0%A7%D3%99%D0%BA%D1%87%D3%99%D0%BA\" title=\"Чәкчәк\">Чәкчәк</a>,\n <a href=\"/wiki/%D0%A8%D0%B8%D1%88%D0%B0%D1%80%D0%B0\" title=\"Шишара\">Шишара</a>,\n <a href=\"/wiki/%D0%A8%D3%99%D0%BD%D0%B3%D3%99\" title=\"Шәнгә\">Шәнгә</a>,\n <a href=\"/wiki/%D0%AE%D0%B0%D1%87%D0%B0\" title=\"Юача\">Юача</a>,\n <a href=\"/wiki/%D2%96%D1%8B%D0%BB%D0%B3%D1%8B%D1%80\" title=\"Җылгыр\">Җылгыр</a>,\n <a href=\"/wiki/%D3%A8%D1%87%D0%BF%D0%BE%D1%87%D0%BC%D0%B0%D0%BA_(%D1%80%D0%B8%D0%B7%D1%8B%D0%BA)\" title=\"Өчпочмак (ризык)\">Өчпочмак (ризык)</a>]"
     },
     "execution_count": 17,
     "metadata": {},
     "output_type": "execute_result"
    }
   ],
   "source": [
    "from bs4 import BeautifulSoup\n",
    "import requests\n",
    "\n",
    "page = 'https://tt.wikipedia.org/wiki/%D0%A2%D3%A9%D1%80%D0%BA%D0%B5%D0%BC:%D0%A2%D0%B0%D1%82%D0%B0%D1%80_%D1%80%D0%B8%D0%B7%D1%8B%D0%BA%D0%BB%D0%B0%D1%80%D1%8B'\n",
    "cont = requests.get(page).content\n",
    "\n",
    "soup = BeautifulSoup(cont)\n",
    "articles_block = soup.find('div', lang='tt', dir='ltr', class_='mw-content-ltr')\n",
    "articles_block.find_all('a', class_=None)"
   ]
  }
 ],
 "metadata": {
  "kernelspec": {
   "display_name": "Python 3",
   "language": "python",
   "name": "python3"
  },
  "language_info": {
   "codemirror_mode": {
    "name": "ipython",
    "version": 2
   },
   "file_extension": ".py",
   "mimetype": "text/x-python",
   "name": "python",
   "nbconvert_exporter": "python",
   "pygments_lexer": "ipython2",
   "version": "2.7.6"
  }
 },
 "nbformat": 4,
 "nbformat_minor": 0
}